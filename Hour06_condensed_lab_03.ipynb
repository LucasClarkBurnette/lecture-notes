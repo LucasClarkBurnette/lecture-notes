{
 "cells": [
  {
   "cell_type": "markdown",
   "metadata": {
    "slideshow": {
     "slide_type": "slide"
    }
   },
   "source": [
    "# Lecture 6: Lab 02 in 6 lines of code (and improved!)"
   ]
  },
  {
   "cell_type": "markdown",
   "metadata": {
    "slideshow": {
     "slide_type": "slide"
    }
   },
   "source": [
    "## Approach this semester\n",
    "\n",
    "+ Implement something yourself to understand the technique\n",
    "+ Check for tools that better implement the process"
   ]
  },
  {
   "cell_type": "markdown",
   "metadata": {
    "slideshow": {
     "slide_type": "slide"
    }
   },
   "source": [
    "## Approach today\n",
    "\n",
    "+ Given task and name of numpy function, read its documentation and complete the task with it.\n",
    "+ How do you find numpy documentation? Google `numpy` and the name of the function you want documentation for\n",
    "+ Type your code in a spyder file that you save\n",
    "\n",
    "### Overall goal for the day: \n",
    "\n",
    "+ Many walks: `n_walks` of them\n",
    "+ Each walk has many steps: `n_steps` of them\n",
    "+ NO LOOPS!"
   ]
  },
  {
   "cell_type": "markdown",
   "metadata": {
    "slideshow": {
     "slide_type": "slide"
    }
   },
   "source": [
    "## Starting code\n",
    "\n",
    "Get the code below into spyder"
   ]
  },
  {
   "cell_type": "code",
   "execution_count": 1,
   "metadata": {
    "scrolled": true,
    "slideshow": {
     "slide_type": "-"
    }
   },
   "outputs": [],
   "source": [
    "import numpy as np\n",
    "\n",
    "n_walkers = 10\n",
    "n_steps = 100\n",
    "step_size = 3"
   ]
  },
  {
   "cell_type": "markdown",
   "metadata": {},
   "source": [
    "Run the code and save it"
   ]
  },
  {
   "cell_type": "markdown",
   "metadata": {
    "slideshow": {
     "slide_type": "slide"
    }
   },
   "source": [
    "## First new numpy command: random.choice\n",
    "\n",
    "+ Look up the documentation for `np.random.choice`\n",
    "+ Use `np.random.choice` to generate a single step that is either `+step_size` or `-step_size`\n",
    "+ Modify that to calculate `n_walkers` x `n_steps` random steps. \n",
    "+ Store the result in a variable named `x_steps`\n",
    "+ You now have every step for every walker for the *x* direction.\n",
    "+ Add a similar line to calculate all of the *y* direction steps."
   ]
  },
  {
   "cell_type": "markdown",
   "metadata": {
    "slideshow": {
     "slide_type": "slide"
    }
   },
   "source": [
    "## Set initial position to 0 for both x and y direction (slicing practice)\n",
    "\n",
    "+ The variable `x_steps` has dimension `n_walkers` rows by `n_steps` columns\n",
    "+ Which column number corresponds to the initial position?\n",
    "+ What is the expression for slicing that column for all walkers? \n",
    "    + In other words, what fills in these blanks: `x_steps[     ,      ]`\n",
    "+ Set the initial position to zero for `x_steps`\n",
    "+ Do the same for `y_steps`"
   ]
  },
  {
   "cell_type": "markdown",
   "metadata": {
    "slideshow": {
     "slide_type": "slide"
    }
   },
   "source": [
    "## Add up all of the steps: numpy cumulative sum function\n",
    "\n",
    "+ Look at documentation for `np.cumsum`\n",
    "+ Calculate the cumulative sum of the `x_step` along `axis=1`\n",
    "+ Set to variable named `x_walk`\n",
    "+ Repeat for y\n",
    "\n"
   ]
  },
  {
   "cell_type": "code",
   "execution_count": null,
   "metadata": {},
   "outputs": [],
   "source": []
  }
 ],
 "metadata": {
  "celltoolbar": "Slideshow",
  "kernelspec": {
   "display_name": "Python 3",
   "language": "python",
   "name": "python3"
  },
  "language_info": {
   "codemirror_mode": {
    "name": "ipython",
    "version": 3
   },
   "file_extension": ".py",
   "mimetype": "text/x-python",
   "name": "python",
   "nbconvert_exporter": "python",
   "pygments_lexer": "ipython3",
   "version": "3.6.7"
  }
 },
 "nbformat": 4,
 "nbformat_minor": 2
}
