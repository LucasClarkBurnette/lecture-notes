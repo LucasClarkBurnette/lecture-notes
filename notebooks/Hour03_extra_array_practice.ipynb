{
 "cells": [
  {
   "cell_type": "markdown",
   "metadata": {
    "slideshow": {
     "slide_type": "slide"
    }
   },
   "source": [
    "# Some extra array practice and a bit of plotting"
   ]
  },
  {
   "cell_type": "code",
   "execution_count": null,
   "metadata": {
    "slideshow": {
     "slide_type": "slide"
    }
   },
   "outputs": [],
   "source": [
    "# Do the usual imports\n",
    "import numpy as np\n",
    "from matplotlib import pyplot as plt"
   ]
  },
  {
   "cell_type": "markdown",
   "metadata": {
    "slideshow": {
     "slide_type": "slide"
    }
   },
   "source": [
    "This notebook will walk you through a bit more practice with arrays and show you a few more plotting featues."
   ]
  },
  {
   "cell_type": "markdown",
   "metadata": {
    "slideshow": {
     "slide_type": "slide"
    }
   },
   "source": [
    "### Define an array\n",
    "\n",
    "We start by defining an array that has 10 elements from 0 to 1"
   ]
  },
  {
   "cell_type": "code",
   "execution_count": null,
   "metadata": {
    "slideshow": {
     "slide_type": "subslide"
    }
   },
   "outputs": [],
   "source": [
    "a = np.linspace(0, 1, num=10)\n",
    "print(a)"
   ]
  },
  {
   "cell_type": "markdown",
   "metadata": {
    "slideshow": {
     "slide_type": "slide"
    }
   },
   "source": [
    "### Math with a numpy array\n",
    "\n",
    "Arithmetic operations are straightforward. For example, to cube the array just raise it to the third power:"
   ]
  },
  {
   "cell_type": "code",
   "execution_count": null,
   "metadata": {
    "slideshow": {
     "slide_type": "fragment"
    }
   },
   "outputs": [],
   "source": [
    "a ** 3"
   ]
  },
  {
   "cell_type": "markdown",
   "metadata": {
    "slideshow": {
     "slide_type": "slide"
    }
   },
   "source": [
    "### Numpy defines lots of functions\n",
    "\n",
    "Essentially every mathematical function a physicist needs is in numpy. For example, to take the sine of the input array do this:"
   ]
  },
  {
   "cell_type": "code",
   "execution_count": null,
   "metadata": {
    "slideshow": {
     "slide_type": "fragment"
    }
   },
   "outputs": [],
   "source": [
    "np.sin(a)"
   ]
  },
  {
   "cell_type": "markdown",
   "metadata": {
    "slideshow": {
     "slide_type": "slide"
    }
   },
   "source": [
    "### Arrays have some built-in properties\n",
    "\n",
    "As an example, an array can calculate the sum of itself. "
   ]
  },
  {
   "cell_type": "code",
   "execution_count": null,
   "metadata": {
    "slideshow": {
     "slide_type": "fragment"
    }
   },
   "outputs": [],
   "source": [
    "a.sum()"
   ]
  },
  {
   "cell_type": "markdown",
   "metadata": {
    "slideshow": {
     "slide_type": "subslide"
    }
   },
   "source": [
    "The easiest way to find out how to do mathmeatical operation  on a numpy array is google. For example, to find out how to calculate the median search for \"numpy median\""
   ]
  },
  {
   "cell_type": "markdown",
   "metadata": {
    "slideshow": {
     "slide_type": "slide"
    }
   },
   "source": [
    "## Matplotlib plotting\n",
    "\n",
    "This is not anything like a complete matplotlib intro but it illustrates some features we will need soon."
   ]
  },
  {
   "cell_type": "markdown",
   "metadata": {
    "slideshow": {
     "slide_type": "slide"
    }
   },
   "source": [
    "### Generating automatic x values\n",
    "\n",
    "Although we won't need this often you should be aware that you can provide just $y$ axis values to a plot. If you leave out $x$ values, `matplotlib` generates them automatically, starting at 0 and going by 1 from there"
   ]
  },
  {
   "cell_type": "code",
   "execution_count": null,
   "metadata": {
    "slideshow": {
     "slide_type": "subslide"
    }
   },
   "outputs": [],
   "source": [
    "plt.plot(a)"
   ]
  },
  {
   "cell_type": "markdown",
   "metadata": {
    "slideshow": {
     "slide_type": "slide"
    }
   },
   "source": [
    "### Plotting multiple y values with the same x values\n",
    "\n",
    "Plotting multiple times in the same code cell puts all of the plots on the same graph."
   ]
  },
  {
   "cell_type": "code",
   "execution_count": null,
   "metadata": {
    "slideshow": {
     "slide_type": "subslide"
    }
   },
   "outputs": [],
   "source": [
    "plt.plot(a, a**2)\n",
    "plt.plot(a, a**3)"
   ]
  },
  {
   "cell_type": "markdown",
   "metadata": {
    "slideshow": {
     "slide_type": "slide"
    }
   },
   "source": [
    "### Titles and legends\n",
    "\n",
    "Titles can be added for the plot and each of the axes. \n",
    "\n",
    "Adding a label when you make a graph makes it easy to add a legend."
   ]
  },
  {
   "cell_type": "code",
   "execution_count": null,
   "metadata": {
    "slideshow": {
     "slide_type": "subslide"
    }
   },
   "outputs": [],
   "source": [
    "# The labels make adding a legend easy\n",
    "plt.plot(a, a**2, label='The square of a')\n",
    "plt.plot(a, a**3, label='Cube of a')\n",
    "\n",
    "# Add a legend; the labels tell matplotlib what each curve is\n",
    "plt.legend()\n",
    "\n",
    "# Include axis titles too\n",
    "plt.xlabel('This is the x axis label')\n",
    "plt.ylabel('Y axis label')\n",
    "plt.title('Chart title')"
   ]
  },
  {
   "cell_type": "markdown",
   "metadata": {
    "slideshow": {
     "slide_type": "slide"
    }
   },
   "source": [
    "### Plotting lots of lines\n",
    "\n",
    "There are several options for line color and line style. See the first couple of labs for some examples. The book describes several \"shortcut\" ways of giving color and style. Those are compact but hard to remember, so I prefer the long form.\n",
    "\n",
    "One property that is useful for plotting many lines on the same graph is `alpha`, a number from 0 to 1 that indicates opacity. A value of `0` is completely transparent, a value of `1` is opaque and values in between are, well, in between."
   ]
  },
  {
   "cell_type": "code",
   "execution_count": null,
   "metadata": {
    "slideshow": {
     "slide_type": "subslide"
    }
   },
   "outputs": [],
   "source": [
    "plt.plot(a, a**2, alpha=0.9)\n",
    "plt.plot(a, a**3, alpha=0.1)"
   ]
  },
  {
   "cell_type": "markdown",
   "metadata": {
    "slideshow": {
     "slide_type": "subslide"
    }
   },
   "source": [
    "Try running the cell below with a few different values of `alpha` between 0 and 1. "
   ]
  },
  {
   "cell_type": "code",
   "execution_count": null,
   "metadata": {
    "slideshow": {
     "slide_type": "fragment"
    }
   },
   "outputs": [],
   "source": [
    "# Generate 10 random numbers and plot them, 20 times\n",
    "for i in range(20):\n",
    "    fake_error = np.random.randn(10) / 10\n",
    "    plt.plot(a, a**2 + fake_error, alpha=0.1)"
   ]
  }
 ],
 "metadata": {
  "celltoolbar": "Slideshow",
  "kernelspec": {
   "display_name": "Python 3",
   "language": "python",
   "name": "python3"
  },
  "language_info": {
   "codemirror_mode": {
    "name": "ipython",
    "version": 3
   },
   "file_extension": ".py",
   "mimetype": "text/x-python",
   "name": "python",
   "nbconvert_exporter": "python",
   "pygments_lexer": "ipython3",
   "version": "3.7.6"
  }
 },
 "nbformat": 4,
 "nbformat_minor": 4
}
