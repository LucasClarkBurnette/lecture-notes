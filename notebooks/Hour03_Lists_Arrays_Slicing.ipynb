{
 "cells": [
  {
   "cell_type": "markdown",
   "metadata": {
    "slideshow": {
     "slide_type": "slide"
    }
   },
   "source": [
    "# Lecture 3: Lists, arrays and slicing"
   ]
  },
  {
   "cell_type": "markdown",
   "metadata": {
    "slideshow": {
     "slide_type": "slide"
    }
   },
   "source": [
    "## Lists and arrays\n",
    "\n",
    "### List\n",
    "\n",
    "```python\n",
    "my_list = [1, 2, 3, 4, 5, 6]\n",
    "```\n",
    "\n",
    "### Array\n",
    "\n",
    "```python\n",
    "my_array = np.array([1, 2, 3, 4, 5, 6])\n",
    "```"
   ]
  },
  {
   "cell_type": "markdown",
   "metadata": {
    "slideshow": {
     "slide_type": "slide"
    }
   },
   "source": [
    "## Lists and arrays: similarities\n",
    "\n",
    "#### Lists and arrays look the same if you print them"
   ]
  },
  {
   "cell_type": "code",
   "execution_count": null,
   "metadata": {
    "scrolled": true,
    "slideshow": {
     "slide_type": "subslide"
    }
   },
   "outputs": [],
   "source": [
    "import numpy as np\n",
    "my_list = [1, 2, 3, 4, 5, 6]\n",
    "my_array = np.array([1, 2, 3, 4, 5, 6])\n",
    "\n",
    "print(\"List: \", my_list)\n",
    "print(\"Array: \", my_array)"
   ]
  },
  {
   "cell_type": "markdown",
   "metadata": {
    "slideshow": {
     "slide_type": "slide"
    }
   },
   "source": [
    "## Similarities: Access a single element\n",
    "\n",
    "### To access one or more elements use square brackets `[ ]`\n",
    "\n",
    "### Single element access: put one number between square brackets\n",
    "\n",
    "##### Make a prediction: What is the output of this?\n",
    "\n",
    "```python\n",
    "print(my_list[2])\n",
    "```"
   ]
  },
  {
   "cell_type": "markdown",
   "metadata": {
    "slideshow": {
     "slide_type": "subslide"
    }
   },
   "source": [
    "##### Make a prediction: What is the output of this?\n",
    "\n",
    "```python\n",
    "print(my_list[-2])\n",
    "``` "
   ]
  },
  {
   "cell_type": "markdown",
   "metadata": {
    "slideshow": {
     "slide_type": "slide"
    }
   },
   "source": [
    "## Similarities: access a range of elements\n",
    "\n",
    "### Range of element access: put multiple numbers, separated by colons, between square brackets\n",
    "\n",
    "`my_list[start:stop:step]`\n",
    "\n",
    "where \n",
    "\n",
    "+ `start` is integer or variable, used as start of selection\n",
    "+ `stop` is integer or variable, selection is up to but not including this\n",
    "+ `step` is integer or variable, the step size used to get from `start` to `stop`\n",
    "\n",
    "All are optional (so `[::]` is valid!)"
   ]
  },
  {
   "cell_type": "markdown",
   "metadata": {
    "slideshow": {
     "slide_type": "slide"
    }
   },
   "source": [
    "## Access a range of elements: Examples\n",
    "\n",
    "### Example 1: start, stop and step\n",
    "\n",
    "Recall: `my_list = [1, 2, 3, 4, 5, 6]`\n",
    "\n",
    "The output of\n",
    "\n",
    "```python\n",
    "print(my_list[0:4:2])\n",
    "``` \n",
    "\n",
    "is\n",
    "\n",
    "```python\n",
    "[1, 3]\n",
    "``` "
   ]
  },
  {
   "cell_type": "markdown",
   "metadata": {
    "slideshow": {
     "slide_type": "subslide"
    }
   },
   "source": [
    "### Example 2: start and stop only\n",
    "\n",
    "If you omit `step` then Python uses the value `1` for `step`\n",
    "\n",
    "Recall: `my_list = [1, 2, 3, 4, 5, 6]`\n",
    "\n",
    "The output of \n",
    "\n",
    "```python\n",
    "print(my_list[0:4])\n",
    "``` \n",
    "\n",
    "is\n",
    "\n",
    "```python\n",
    "[1, 2, 3, 4]\n",
    "``` "
   ]
  },
  {
   "cell_type": "markdown",
   "metadata": {
    "slideshow": {
     "slide_type": "subslide"
    }
   },
   "source": [
    "### Example 3: stop only\n",
    "\n",
    "If you omit `start` then Python assumes you mean \"start at the beginning fo the list or array\"\n",
    "\n",
    "Recall: `my_list = [1, 2, 3, 4, 5, 6]`\n",
    "\n",
    "##### Make a prediction: The output of code below is what?\n",
    "\n",
    "```python\n",
    "print(my_list[:4])\n",
    "``` "
   ]
  },
  {
   "cell_type": "markdown",
   "metadata": {
    "slideshow": {
     "slide_type": "subslide"
    }
   },
   "source": [
    "### Example 4: start only\n",
    "\n",
    "If you omit `stop` then Python assumes you mean \"until the end of the list or array\"\n",
    "\n",
    "Recall: `my_list = [1, 2, 3, 4, 5, 6]`\n",
    "\n",
    "##### Make a prediction: The output of code below is what?\n",
    "\n",
    "```python\n",
    "print(my_list[4:])\n",
    "``` "
   ]
  },
  {
   "cell_type": "markdown",
   "metadata": {
    "slideshow": {
     "slide_type": "subslide"
    }
   },
   "source": [
    "### Practice: what does `[::]` do?\n",
    "\n",
    "Recall: `my_list = [1, 2, 3, 4, 5, 6]`\n",
    "\n",
    "##### Make a prediction: The output of code below is what?\n",
    "\n",
    "```python\n",
    "print(my_list[::])\n",
    "``` "
   ]
  },
  {
   "cell_type": "markdown",
   "metadata": {
    "slideshow": {
     "slide_type": "slide"
    }
   },
   "source": [
    "## Arrays and lists: differences\n",
    "\n",
    "Arithmetic is very different for lists and arrays\n",
    "\n",
    "### Open up spyder to try the next couple of things out"
   ]
  },
  {
   "cell_type": "code",
   "execution_count": null,
   "metadata": {
    "scrolled": true,
    "slideshow": {
     "slide_type": "slide"
    }
   },
   "outputs": [],
   "source": [
    "## Set up: make two lists and two arrays\n",
    "import numpy as np\n",
    "\n",
    "list1 = [1, 2, 3]\n",
    "list2 = [4, 5, 6]\n",
    "array1 = np.array(list1)\n",
    "array2 = np.array(list2)"
   ]
  },
  {
   "cell_type": "code",
   "execution_count": null,
   "metadata": {
    "scrolled": true,
    "slideshow": {
     "slide_type": "subslide"
    }
   },
   "outputs": [],
   "source": [
    "# Add the two lists...what do you get?\n",
    "\n",
    "print(list1 + list2)"
   ]
  },
  {
   "cell_type": "code",
   "execution_count": null,
   "metadata": {
    "scrolled": true,
    "slideshow": {
     "slide_type": "subslide"
    }
   },
   "outputs": [],
   "source": [
    "# Add the two arrays....what do you get?\n",
    "\n",
    "print(array1 + array2)"
   ]
  },
  {
   "cell_type": "code",
   "execution_count": null,
   "metadata": {
    "scrolled": true
   },
   "outputs": [],
   "source": [
    "# Multiply a list by 2....what do you get?\n",
    "\n",
    "print(2 * list1)"
   ]
  },
  {
   "cell_type": "code",
   "execution_count": null,
   "metadata": {
    "scrolled": true
   },
   "outputs": [],
   "source": [
    "# Multiply an array by 2.....what do you get?\n",
    "\n",
    "print(2 * array1)"
   ]
  }
 ],
 "metadata": {
  "celltoolbar": "Slideshow",
  "kernelspec": {
   "display_name": "Python 3",
   "language": "python",
   "name": "python3"
  },
  "language_info": {
   "codemirror_mode": {
    "name": "ipython",
    "version": 3
   },
   "file_extension": ".py",
   "mimetype": "text/x-python",
   "name": "python",
   "nbconvert_exporter": "python",
   "pygments_lexer": "ipython3",
   "version": "3.6.7"
  }
 },
 "nbformat": 4,
 "nbformat_minor": 2
}
